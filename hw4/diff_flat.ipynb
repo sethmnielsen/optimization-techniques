{
 "cells": [
  {
   "cell_type": "markdown",
   "metadata": {},
   "source": [
    "# Differential Flatness of a Moving Car\n"
   ]
  },
  {
   "cell_type": "code",
   "execution_count": 4,
   "metadata": {},
   "outputs": [
    {
     "ename": "ModuleNotFoundError",
     "evalue": "No module named 'scipy'",
     "output_type": "error",
     "traceback": [
      "\u001b[0;31m---------------------------------------------------------------------------\u001b[0m",
      "\u001b[0;31mModuleNotFoundError\u001b[0m                       Traceback (most recent call last)",
      "\u001b[0;32m<ipython-input-4-5f8383ac6f50>\u001b[0m in \u001b[0;36m<module>\u001b[0;34m()\u001b[0m\n\u001b[1;32m      5\u001b[0m \u001b[0mrc\u001b[0m\u001b[0;34m(\u001b[0m\u001b[0;34m'figure'\u001b[0m\u001b[0;34m,\u001b[0m \u001b[0mfigsize\u001b[0m\u001b[0;34m=\u001b[0m\u001b[0;34m(\u001b[0m\u001b[0;36m8\u001b[0m\u001b[0;34m,\u001b[0m\u001b[0;36m6\u001b[0m\u001b[0;34m)\u001b[0m\u001b[0;34m)\u001b[0m\u001b[0;34m\u001b[0m\u001b[0;34m\u001b[0m\u001b[0m\n\u001b[1;32m      6\u001b[0m \u001b[0;32mimport\u001b[0m \u001b[0mmatplotlib\u001b[0m\u001b[0;34m.\u001b[0m\u001b[0mpyplot\u001b[0m \u001b[0;32mas\u001b[0m \u001b[0mplt\u001b[0m\u001b[0;34m\u001b[0m\u001b[0;34m\u001b[0m\u001b[0m\n\u001b[0;32m----> 7\u001b[0;31m \u001b[0;32mimport\u001b[0m \u001b[0mscipy\u001b[0m\u001b[0;34m\u001b[0m\u001b[0;34m\u001b[0m\u001b[0m\n\u001b[0m\u001b[1;32m      8\u001b[0m \u001b[0;32mfrom\u001b[0m \u001b[0mscipy\u001b[0m\u001b[0;34m.\u001b[0m\u001b[0moptimize\u001b[0m \u001b[0;32mimport\u001b[0m \u001b[0mminimize\u001b[0m\u001b[0;34m\u001b[0m\u001b[0;34m\u001b[0m\u001b[0m\n",
      "\u001b[0;31mModuleNotFoundError\u001b[0m: No module named 'scipy'"
     ]
    }
   ],
   "source": [
    "import numpy as np\n",
    "from matplotlib import rc\n",
    "rc('text', usetex=True)\n",
    "rc('font', size=22)\n",
    "rc('figure', figsize=(8,6))\n",
    "import matplotlib.pyplot as plt\n",
    "import scipy\n",
    "from scipy.optimize import minimize"
   ]
  },
  {
   "cell_type": "code",
   "execution_count": 1,
   "metadata": {},
   "outputs": [
    {
     "ename": "ModuleNotFoundError",
     "evalue": "No module named 'sympy'",
     "output_type": "error",
     "traceback": [
      "\u001b[0;31m---------------------------------------------------------------------------\u001b[0m",
      "\u001b[0;31mModuleNotFoundError\u001b[0m                       Traceback (most recent call last)",
      "\u001b[0;32m<ipython-input-1-988ff1761f64>\u001b[0m in \u001b[0;36m<module>\u001b[0;34m()\u001b[0m\n\u001b[1;32m      1\u001b[0m \u001b[0;32mfrom\u001b[0m \u001b[0mIPython\u001b[0m\u001b[0;34m.\u001b[0m\u001b[0mdisplay\u001b[0m \u001b[0;32mimport\u001b[0m \u001b[0mdisplay\u001b[0m\u001b[0;34m\u001b[0m\u001b[0;34m\u001b[0m\u001b[0m\n\u001b[0;32m----> 2\u001b[0;31m \u001b[0;32mfrom\u001b[0m \u001b[0msympy\u001b[0m \u001b[0;32mimport\u001b[0m \u001b[0minit_printing\u001b[0m\u001b[0;34m\u001b[0m\u001b[0;34m\u001b[0m\u001b[0m\n\u001b[0m\u001b[1;32m      3\u001b[0m \u001b[0minit_printing\u001b[0m\u001b[0;34m(\u001b[0m\u001b[0muse_latex\u001b[0m\u001b[0;34m=\u001b[0m\u001b[0;34m'mathjax'\u001b[0m\u001b[0;34m)\u001b[0m\u001b[0;34m\u001b[0m\u001b[0;34m\u001b[0m\u001b[0m\n\u001b[1;32m      4\u001b[0m \u001b[0;32mimport\u001b[0m \u001b[0msympy\u001b[0m \u001b[0;32mas\u001b[0m \u001b[0msp\u001b[0m\u001b[0;34m\u001b[0m\u001b[0;34m\u001b[0m\u001b[0m\n\u001b[1;32m      5\u001b[0m \u001b[0;34m\u001b[0m\u001b[0m\n",
      "\u001b[0;31mModuleNotFoundError\u001b[0m: No module named 'sympy'"
     ]
    }
   ],
   "source": [
    "from IPython.display import display\n",
    "from sympy import init_printing\n",
    "init_printing(use_latex='mathjax')\n",
    "import sympy as sp\n",
    "\n",
    "\n",
    "from sympy.physics.vector import dynamicsymbols\n",
    "t = sp.symbols('t')\n",
    "display(sp.Integral(sp.sqrt(1/t), t))\n",
    "\n",
    "\n",
    "x = dynamicsymbols('x_d')\n",
    "xd = sp.diff(x, t)\n",
    "y = dynamicsymbols('y_d')\n",
    "yd = sp.diff(y, t)\n",
    "\n",
    "v = sp.sqrt(xd**2 + yd**2)\n",
    "vd = sp.diff(v, t)\n",
    "vdd = sp.diff(vd, t)\n",
    "display(vd)\n",
    "display(vdd)"
   ]
  },
  {
   "cell_type": "code",
   "execution_count": 3,
   "metadata": {},
   "outputs": [
    {
     "name": "stdout",
     "output_type": "stream",
     "text": [
      "4*xd**2*xddd**2 + 8*xd*xdd**2*xddd + 8*xd*xddd*yd*yddd + 8*xd*xddd*ydd**2 + 4*xdd**4 + 8*xdd**2*yd*yddd + 8*xdd**2*ydd**2 + 4*yd**2*yddd**2 + 8*yd*ydd**2*yddd + 4*ydd**4\n"
     ]
    }
   ],
   "source": [
    "xd, xdd, xddd, yd, ydd, yddd = sp.symbols('xd, xdd, xddd, yd, ydd, yddd')\n",
    "vdd = 2*xdd**2 + 2*xd*xddd + 2*ydd**2 + 2*yd*yddd\n",
    "vddsq = sp.expand(vdd**2)\n",
    "print(vddsq)"
   ]
  },
  {
   "cell_type": "code",
   "execution_count": 4,
   "metadata": {},
   "outputs": [],
   "source": [
    "# car parameters\n",
    "ell = 2.5\n",
    "\n",
    "# time\n",
    "ts = 0.\n",
    "te = 20.\n",
    "\n",
    "npts = 100 # number of points to discretize at\n",
    "\n",
    "# time\n",
    "tvec = np.arange(ts, te, 1./npts)\n",
    "\n",
    "# parameters 0:6 are p_xi 6:12 are p_yi\n",
    "nparam = 6\n",
    "ndim = 2\n",
    "P0 = np.zeros((nparam*ndim))\n",
    "\n",
    "\n",
    "# path derivatives\n",
    "def P_0d(P, t, p0):\n",
    "    PP = P[p0:nparam+p0]\n",
    "    TT = np.stack([ t**0,\n",
    "                    t**1,\n",
    "                    t**2,\n",
    "                    t**3,\n",
    "                    t**4,\n",
    "                    t**5])\n",
    "    func = PP@TT\n",
    "    return func\n",
    "\n",
    "def P_1d(P, t, p0):\n",
    "    PP = P[p0:nparam+p0]\n",
    "    TT = np.stack([ 0*t**0,\n",
    "                    1*t**0,\n",
    "                    2*t**1,\n",
    "                    3*t**2,\n",
    "                    4*t**3,\n",
    "                    5*t**4])\n",
    "    func = PP@TT\n",
    "    return func\n",
    "\n",
    "def P_2d(P, t, p0):\n",
    "    PP = P[p0:nparam+p0]\n",
    "    TT = np.stack([ 0*t**0,\n",
    "                    0*t**0,\n",
    "                    2*t**0,\n",
    "                    6*t**1,\n",
    "                    12*t**2,\n",
    "                    20*t**3])\n",
    "    func = PP@TT\n",
    "    return func\n",
    "\n",
    "def P_3d(P, t, p0):\n",
    "    PP = P[p0:nparam+p0]\n",
    "    TT = np.stack([ 0*t**0,\n",
    "                    0*t**0,\n",
    "                    0*t**0,\n",
    "                    6*t**0,\n",
    "                    24*t**1,\n",
    "                    60*t**2])\n",
    "    func = PP@TT\n",
    "    return func\n",
    "\n",
    "\n",
    "# objective function\n",
    "def Jmin(P):\n",
    "    \n",
    "#    xd   = P_1d(P, tvec, 0)\n",
    "#    xdd  = P_2d(P, tvec, 0)\n",
    "    xddd = P_3d(P, tvec, 0)\n",
    "    \n",
    "#    yd   = P_1d(P, tvec, nparam)\n",
    "#    ydd  = P_2d(P, tvec, nparam)\n",
    "    yddd = P_3d(P, tvec, nparam)\n",
    "    \n",
    "    vdd = xddd**2 + yddd**2\n",
    "    \n",
    "    J = sum(vdd**2)\n",
    "    return J\n",
    "    \n",
    "    \n",
    "\n"
   ]
  },
  {
   "cell_type": "code",
   "execution_count": null,
   "metadata": {},
   "outputs": [],
   "source": []
  },
  {
   "cell_type": "code",
   "execution_count": 5,
   "metadata": {},
   "outputs": [],
   "source": [
    "# constraints\n",
    "def maxSteer(P):\n",
    "    xd   = P_1d(P, tvec, 0)\n",
    "    xdd  = P_2d(P, tvec, 0) \n",
    "    yd   = P_1d(P, tvec, nparam)\n",
    "    ydd  = P_2d(P, tvec, nparam)\n",
    "    \n",
    "    v = np.sqrt(xd**2 + yd**2)\n",
    "    gmax = np.min(v*np.tan(np.pi/4)/ell - np.abs(ydd*xd + yd*xdd))\n",
    "    #import pdb; pdb.set_trace()\n",
    "    return gmax\n",
    "    \n",
    "constraintList = [\n",
    "# x(0) = (0, 0)\n",
    "    {'type': 'eq', 'fun': lambda P: P_0d(P, np.array([ts]), 0)},\n",
    "    {'type': 'eq', 'fun': lambda P: P_0d(P, np.array([ts]), nparam)},\n",
    "# x(5) = (5, 3)\n",
    "    #{'type': 'eq', 'fun': lambda P: P_0d(P, np.array([5]), 0) - 5},\n",
    "    #{'type': 'eq', 'fun': lambda P: P_0d(P, np.array([5]), nparam) - 2},\n",
    "# x(te) = (10, 5)\n",
    "    {'type': 'eq', 'fun': lambda P: P_0d(P, np.array([te]), 0) - 10},\n",
    "    {'type': 'eq', 'fun': lambda P: P_0d(P, np.array([te]), nparam) - 5},\n",
    "# xd(0) = (0, 1)\n",
    "    {'type': 'eq', 'fun': lambda P: P_1d(P, np.array([ts]), 0) - 0},\n",
    "    {'type': 'eq', 'fun': lambda P: P_1d(P, np.array([ts]), nparam) - 2},\n",
    "# xd(te) = (0, 0)\n",
    "    {'type': 'eq', 'fun': lambda P: P_1d(P, np.array([te]), 0) },\n",
    "    {'type': 'eq', 'fun': lambda P: P_1d(P, np.array([te]), nparam) - 1},\n",
    "# Max vel < 10 m/s\n",
    "    {'type': 'ineq', 'fun': lambda P: 10**2 - np.amax(P_1d(P, tvec, 0)**2 + P_1d(P, tvec, nparam)**2)},\n",
    "# Max accel < 2 m/ss\n",
    "    {'type': 'ineq', 'fun': lambda P: 2**2 - np.amax(P_2d(P, tvec, 0)**2 + P_2d(P, tvec, nparam)**2)},\n",
    "# Max steer < 45 deg\n",
    "    {'type': 'ineq', 'fun': maxSteer}\n",
    "]"
   ]
  },
  {
   "cell_type": "code",
   "execution_count": 6,
   "metadata": {},
   "outputs": [
    {
     "name": "stdout",
     "output_type": "stream",
     "text": [
      "     fun: 0.004617966253155716\n",
      "     jac: array([ 0.00000000e+00,  0.00000000e+00,  0.00000000e+00, -1.02100378e+00,\n",
      "       -4.02455349e+01, -1.19076923e+03,  0.00000000e+00,  0.00000000e+00,\n",
      "        0.00000000e+00,  2.54015981e+00,  1.02119523e+02,  3.08197204e+03])\n",
      " message: 'Optimization terminated successfully.'\n",
      "    nfev: 175\n",
      "     nit: 12\n",
      "    njev: 12\n",
      "  status: 0\n",
      " success: True\n",
      "       x: array([ 0.00000000e+00, -3.76998073e-22,  7.16048400e-02, -1.70364837e-03,\n",
      "       -5.41714635e-05,  1.14208909e-06,  0.00000000e+00,  2.00000000e+00,\n",
      "       -1.96716057e-01,  3.16012269e-03,  1.90608160e-04, -3.77870756e-06])\n"
     ]
    }
   ],
   "source": [
    "def cb(state):\n",
    "    pass\n",
    "    #print(state)\n",
    "    \n",
    "res = minimize(Jmin, P0, method='SLSQP', constraints=constraintList, callback=cb)\n",
    "print(res)"
   ]
  },
  {
   "cell_type": "code",
   "execution_count": 7,
   "metadata": {},
   "outputs": [
    {
     "data": {
      "image/png": "[encoded data removed]",
      "text/plain": [
       "<Figure size 432x288 with 3 Axes>"
      ]
     },
     "metadata": {
      "needs_background": "light"
     },
     "output_type": "display_data"
    },
    {
     "data": {
      "image/png": "[encoded data removed]",
      "text/plain": [
       "<Figure size 432x288 with 2 Axes>"
      ]
     },
     "metadata": {
      "needs_background": "light"
     },
     "output_type": "display_data"
    },
    {
     "data": {
      "image/png": "[encoded data removed]",
      "text/plain": [
       "<Figure size 432x288 with 1 Axes>"
      ]
     },
     "metadata": {
      "needs_background": "light"
     },
     "output_type": "display_data"
    }
   ],
   "source": [
    "# use the result!\n",
    "Popt = res.x\n",
    "\n",
    "xtraj = P_0d(Popt, tvec, 0)\n",
    "ytraj = P_0d(Popt, tvec, nparam)\n",
    "\n",
    "xtraj_dot = P_1d(Popt, tvec, 0)\n",
    "ytraj_dot = P_1d(Popt, tvec, nparam)\n",
    "\n",
    "xtraj_ddot = P_2d(Popt, tvec, 0)\n",
    "ytraj_ddot = P_2d(Popt, tvec, nparam)\n",
    "\n",
    "thetatraj = np.arctan2(ytraj_dot, xtraj_dot)\n",
    "\n",
    "vtraj = np.sqrt(xtraj_dot**2 + ytraj_dot**2)\n",
    "gamtraj = np.arctan2(ell * (ytraj_ddot*xtraj_dot - ytraj_dot*xtraj_ddot), vtraj)\n",
    "\n",
    "fig, ax = plt.subplots(3, 1)\n",
    "ax[0].set_title(r\"$\\mathbf{x}_d$ vs. $t$\")\n",
    "ax[0].plot(tvec,xtraj, label=r\"$x_d$\", linewidth=2)\n",
    "ax[0].legend()\n",
    "ax[1].plot(tvec,ytraj, label =r\"$y_d$\", linewidth=2)\n",
    "ax[1].legend()\n",
    "ax[2].plot(tvec,np.rad2deg(thetatraj), label =r\"$\\theta_d$\", linewidth=2)\n",
    "ax[2].legend()\n",
    "fig.tight_layout(pad=.2)\n",
    "#fig.savefig('car_df_states.png', dpi=600)\n",
    "\n",
    "fig, ax = plt.subplots(2, 1)\n",
    "ax[0].set_title(r\"$\\mathbf{u}_d$ vs $t$\")\n",
    "ax[0].plot(tvec, vtraj, label=r\"$v_d$\", linewidth=2)\n",
    "ax[0].legend()\n",
    "ax[1].plot(tvec, np.rad2deg(gamtraj), label=r\"$\\gamma_d$\", linewidth=2)\n",
    "ax[1].legend()\n",
    "#fig.savefig('car_df_inputs.png', dpi=600)\n",
    "\n",
    "fig, ax = plt.subplots(1, 1)\n",
    "ax.set_title(r\"$x_d$ vs $y_d$\")\n",
    "ax.plot(xtraj, ytraj, linewidth=2, color='r')\n",
    "ax.set_xlabel(r\"$x$\")\n",
    "ax.set_ylabel(r\"$y$\")\n",
    "ax.axis('equal')\n",
    "#fig.savefig('car_df_xy.png', dpi=600)\n",
    "\n",
    "\n",
    "plt.show()\n",
    "\n"
   ]
  },
  {
   "cell_type": "code",
   "execution_count": null,
   "metadata": {},
   "outputs": [],
   "source": []
  }
 ],
 "metadata": {
  "kernelspec": {
   "display_name": "Python 3",
   "language": "python",
   "name": "python3"
  },
  "language_info": {
   "codemirror_mode": {
    "name": "ipython",
    "version": 3
   },
   "file_extension": ".py",
   "mimetype": "text/x-python",
   "name": "python",
   "nbconvert_exporter": "python",
   "pygments_lexer": "ipython3",
   "version": "3.8.2-final"
  },
  "latex_envs": {
   "LaTeX_envs_menu_present": true,
   "autoclose": false,
   "autocomplete": true,
   "bibliofile": "biblio.bib",
   "cite_by": "apalike",
   "current_citInitial": 1,
   "eqLabelWithNumbers": true,
   "eqNumInitial": 1,
   "hotkeys": {
    "equation": "Ctrl-E",
    "itemize": "Ctrl-I"
   },
   "labels_anchors": false,
   "latex_user_defs": false,
   "report_style_numbering": false,
   "user_envs_cfg": false
  }
 },
 "nbformat": 4,
 "nbformat_minor": 2
}